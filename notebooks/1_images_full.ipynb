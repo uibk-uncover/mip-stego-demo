{
 "cells": [
  {
   "cell_type": "markdown",
   "id": "5b2cd222-eea1-4d63-a077-e75bdf8a24f8",
   "metadata": {},
   "source": [
    "# Workshop name\n",
    "\n",
    "**Author:** Martin Beneš, Verena Lachner"
   ]
  },
  {
   "cell_type": "markdown",
   "id": "b7fc998d-7bb8-4b36-9206-e98754ea4c61",
   "metadata": {},
   "source": [
    "## Notebook setup"
   ]
  },
  {
   "cell_type": "markdown",
   "id": "91191a65-974d-4bc4-a989-fc5492302c91",
   "metadata": {},
   "source": [
    "For this notebook, we will use a sample image `00001.tif` from ALASKA database. Run following code chunk to download it."
   ]
  },
  {
   "cell_type": "code",
   "execution_count": 1,
   "id": "2b5ab121-8220-4876-89c8-8fde3b87bc29",
   "metadata": {},
   "outputs": [
    {
     "name": "stderr",
     "output_type": "stream",
     "text": [
      "/opt/miniconda3/envs/dev/lib/python3.9/site-packages/urllib3/connectionpool.py:1099: InsecureRequestWarning: Unverified HTTPS request is being made to host 'alaska.utt.fr'. Adding certificate verification is strongly advised. See: https://urllib3.readthedocs.io/en/latest/advanced-usage.html#tls-warnings\n",
      "  warnings.warn(\n"
     ]
    }
   ],
   "source": [
    "# download 00001.tif from ALASKA website\n",
    "import requests\n",
    "res = requests.get('http://alaska.utt.fr/DATASETS/ALASKA_v2_TIFF_512_COLOR/00001.tif', verify=False)\n",
    "with open('00001.tif', 'wb') as f:\n",
    "    f.write(res.content)"
   ]
  }
 ],
 "metadata": {
  "kernelspec": {
   "display_name": "Python 3 (ipykernel)",
   "language": "python",
   "name": "python3"
  },
  "language_info": {
   "codemirror_mode": {
    "name": "ipython",
    "version": 3
   },
   "file_extension": ".py",
   "mimetype": "text/x-python",
   "name": "python",
   "nbconvert_exporter": "python",
   "pygments_lexer": "ipython3",
   "version": "3.9.18"
  }
 },
 "nbformat": 4,
 "nbformat_minor": 5
}
