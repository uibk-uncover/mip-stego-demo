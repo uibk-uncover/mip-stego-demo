{
 "cells": [
  {
   "cell_type": "markdown",
   "id": "5d7acc52-0e4c-41a2-9e51-29b2ab26ebc8",
   "metadata": {
    "slideshow": {
     "slide_type": "slide"
    },
    "tags": []
   },
   "source": [
    "# Digitale Zaubertinte: Steganography workshop\n",
    "\n",
    "**Author:** Martin Beneš, Verena Lachner\n",
    "\n",
    "<div style=\"text-align: center\">\n",
    "<a href=\"https://www.github.com/uibk-uncover/mip-stego-demo\">\n",
    "github.com/uibk-uncover/mip-stego-demo\n",
    "</a>\n",
    "</div>"
   ]
  },
  {
   "cell_type": "markdown",
   "id": "ac178023-64ab-442b-ab0e-67211efb815d",
   "metadata": {
    "slideshow": {
     "slide_type": "skip"
    },
    "tags": []
   },
   "source": [
    "## Notebook setup\n",
    "\n",
    "For this notebook, we will use a sample image `00001.tif` from ALASKA database. Run following code chunk to download it."
   ]
  },
  {
   "cell_type": "code",
   "execution_count": 1,
   "id": "0aa366e1-f287-4abe-9f5a-f35fbd43f5c3",
   "metadata": {
    "slideshow": {
     "slide_type": "skip"
    },
    "tags": []
   },
   "outputs": [],
   "source": [
    "import matplotlib.pyplot as plt\n",
    "import numpy as np\n",
    "from PIL import Image\n",
    "import scipy.stats\n",
    "import seaborn as sns\n",
    "import warnings\n",
    "warnings.simplefilter(action='ignore', category=FutureWarning)\n",
    "np.set_printoptions(threshold=99)\n",
    "plt.rcParams[\"figure.figsize\"] = (12, 3)\n",
    "np.random.seed(12345)"
   ]
  },
  {
   "cell_type": "code",
   "execution_count": 2,
   "id": "51abba11",
   "metadata": {
    "slideshow": {
     "slide_type": "skip"
    }
   },
   "outputs": [],
   "source": [
    "# download nockspitze from GitHub\n",
    "import requests\n",
    "res = requests.get(f'https://github.com/uibk-uncover/mip-stego-demo/raw/main/img/nockspitze.png')\n",
    "with open('nockspitze.png', 'wb') as f:\n",
    "    f.write(res.content)"
   ]
  },
  {
   "cell_type": "code",
   "execution_count": 3,
   "id": "32c620fb",
   "metadata": {
    "slideshow": {
     "slide_type": "skip"
    },
    "tags": []
   },
   "outputs": [],
   "source": [
    "def lsbr(x: np.ndarray, alpha: float = 1., method: str = 'permuted', seed: int = 12345) -> np.ndarray:\n",
    "    \"\"\"This function simulates LSB replacement.\"\"\"\n",
    "    # probability\n",
    "    if method == 'sequential':\n",
    "        payload = int(np.ceil(alpha * x.size))\n",
    "        probability = np.reshape([1/2.]*payload + [0]*(x.size - payload), x.shape)\n",
    "    elif method == 'permuted':\n",
    "        probability = np.ones(x.shape, dtype='float64') * alpha / 2\n",
    "    else:\n",
    "        raise NotImplementedError(f'unknown method {method}')\n",
    "    # simulate\n",
    "    rng = np.random.default_rng(seed)\n",
    "    to_be_changed = rng.random(x.shape) < probability\n",
    "    # modify\n",
    "    y = np.copy(x)\n",
    "    y[to_be_changed & (x % 2 == 0)] += 1\n",
    "    y[to_be_changed & (x % 2 != 0)] -= 1\n",
    "    return y"
   ]
  },
  {
   "cell_type": "markdown",
   "id": "96ff0d6c",
   "metadata": {
    "slideshow": {
     "slide_type": "slide"
    },
    "tags": []
   },
   "source": [
    "<center><h2>Let's play a coin game!</h2></center>"
   ]
  },
  {
   "cell_type": "markdown",
   "id": "94d687de",
   "metadata": {
    "slideshow": {
     "slide_type": "subslide"
    },
    "tags": []
   },
   "source": [
    "$1000$ people toss a coin $100$ times, and count heads."
   ]
  },
  {
   "cell_type": "code",
   "execution_count": 4,
   "id": "219d9c5b",
   "metadata": {
    "slideshow": {
     "slide_type": "fragment"
    }
   },
   "outputs": [],
   "source": [
    "import numpy as np\n",
    "toss = np.random.choice([0, 1], size=[1000, 100])  # toss\n",
    "toss_sums = np.sum(toss, axis=1)  # count heads"
   ]
  },
  {
   "cell_type": "markdown",
   "id": "d457d6c7",
   "metadata": {
    "slideshow": {
     "slide_type": "skip"
    }
   },
   "source": [
    "Function `np.random.choice` chooses at random an element from $\\{0,1\\}$ (where 1 represents head). This is repeated $1000\\cdot100\\times$ and the results are aligned in 2D matrix."
   ]
  },
  {
   "cell_type": "code",
   "execution_count": 5,
   "id": "902308e0",
   "metadata": {
    "slideshow": {
     "slide_type": "skip"
    }
   },
   "outputs": [
    {
     "data": {
      "text/plain": [
       "array([[0, 1, 1, ..., 0, 1, 0],\n",
       "       [0, 1, 0, ..., 1, 1, 0],\n",
       "       [0, 0, 0, ..., 1, 1, 1],\n",
       "       ...,\n",
       "       [1, 0, 1, ..., 0, 0, 0],\n",
       "       [0, 1, 1, ..., 1, 0, 0],\n",
       "       [1, 0, 1, ..., 1, 1, 0]])"
      ]
     },
     "execution_count": 5,
     "metadata": {},
     "output_type": "execute_result"
    }
   ],
   "source": [
    "toss"
   ]
  },
  {
   "cell_type": "code",
   "execution_count": 6,
   "id": "d7a81b25",
   "metadata": {
    "slideshow": {
     "slide_type": "skip"
    }
   },
   "outputs": [
    {
     "data": {
      "text/plain": [
       "(1000, 100)"
      ]
     },
     "execution_count": 6,
     "metadata": {},
     "output_type": "execute_result"
    }
   ],
   "source": [
    "toss.shape"
   ]
  },
  {
   "cell_type": "markdown",
   "id": "78588c8a",
   "metadata": {
    "slideshow": {
     "slide_type": "skip"
    }
   },
   "source": [
    "Then, we sum the number of ones in each column, i.e. along axis 1. We get a vector with $1000$ elements."
   ]
  },
  {
   "cell_type": "code",
   "execution_count": 7,
   "id": "9d96e274",
   "metadata": {
    "slideshow": {
     "slide_type": "skip"
    }
   },
   "outputs": [
    {
     "data": {
      "text/plain": [
       "array([56, 50, 46, ..., 51, 44, 51])"
      ]
     },
     "execution_count": 7,
     "metadata": {},
     "output_type": "execute_result"
    }
   ],
   "source": [
    "toss_sums"
   ]
  },
  {
   "cell_type": "markdown",
   "id": "bd4bb2c2-8c31-46fc-aad4-dbe0ea6be478",
   "metadata": {
    "slideshow": {
     "slide_type": "skip"
    },
    "tags": []
   },
   "source": [
    "For a fair coin, we expect the sum to be around $50$."
   ]
  },
  {
   "cell_type": "code",
   "execution_count": 8,
   "id": "0898b2bb",
   "metadata": {
    "slideshow": {
     "slide_type": "subslide"
    },
    "tags": []
   },
   "outputs": [
    {
     "data": {
      "image/png": "[encoded data removed]",
      "text/plain": [
       "<Figure size 864x216 with 1 Axes>"
      ]
     },
     "metadata": {
      "needs_background": "light"
     },
     "output_type": "display_data"
    }
   ],
   "source": [
    "import seaborn as sns\n",
    "sns.histplot(toss_sums, discrete=True);  # plot histogram"
   ]
  },
  {
   "cell_type": "markdown",
   "id": "ac90f51f",
   "metadata": {
    "slideshow": {
     "slide_type": "fragment"
    }
   },
   "source": [
    "Histograms allows us to analyze data distribution graphically."
   ]
  },
  {
   "cell_type": "markdown",
   "id": "ae23f75b",
   "metadata": {
    "slideshow": {
     "slide_type": "slide"
    }
   },
   "source": [
    "<center><h2>Playing with unfair coin</h2></center>"
   ]
  },
  {
   "cell_type": "markdown",
   "id": "a49cd772",
   "metadata": {
    "slideshow": {
     "slide_type": "skip"
    }
   },
   "source": [
    "We repeat the experiment, now with an unfair coin."
   ]
  },
  {
   "cell_type": "markdown",
   "id": "1c0b7348",
   "metadata": {
    "slideshow": {
     "slide_type": "subslide"
    }
   },
   "source": [
    "Our unfair coin yields heads with a probability $52\\%$."
   ]
  },
  {
   "cell_type": "code",
   "execution_count": 9,
   "id": "6a1b96df",
   "metadata": {
    "slideshow": {
     "slide_type": "fragment"
    }
   },
   "outputs": [],
   "source": [
    "toss2 = np.random.choice([0, 1], size=[1000, 100], p=[.48, .52])\n",
    "toss2_sums = np.sum(toss2, axis=1)"
   ]
  },
  {
   "cell_type": "markdown",
   "id": "623fb908",
   "metadata": {
    "slideshow": {
     "slide_type": "skip"
    }
   },
   "source": [
    "The probabilities of each element from $\\{0,1\\}$ are specified by an additional parameter `p`.\n",
    "\n",
    "The probability of head ($1$) is $0.52$, i.e., $52\\%$."
   ]
  },
  {
   "cell_type": "code",
   "execution_count": 10,
   "id": "48466715",
   "metadata": {
    "slideshow": {
     "slide_type": "fragment"
    }
   },
   "outputs": [
    {
     "data": {
      "image/png": "[encoded data removed]",
      "text/plain": [
       "<Figure size 864x216 with 1 Axes>"
      ]
     },
     "metadata": {
      "needs_background": "light"
     },
     "output_type": "display_data"
    }
   ],
   "source": [
    "sns.histplot(toss_sums, discrete=True, label='0.5');  # fair\n",
    "sns.histplot(toss2_sums, discrete=True, label='0.52');  # unfair\n",
    "plt.legend();"
   ]
  },
  {
   "cell_type": "markdown",
   "id": "88baf109",
   "metadata": {
    "slideshow": {
     "slide_type": "fragment"
    }
   },
   "source": [
    "Is the orange histogram same as the blue one?"
   ]
  },
  {
   "cell_type": "markdown",
   "id": "90372f22",
   "metadata": {
    "slideshow": {
     "slide_type": "skip"
    }
   },
   "source": [
    "It is not an easy answer. The average looks a bit higher, but the draws are pretty much in the same range."
   ]
  },
  {
   "cell_type": "markdown",
   "id": "8f60b41f",
   "metadata": {
    "slideshow": {
     "slide_type": "subslide"
    }
   },
   "source": [
    "We can test it using statistics."
   ]
  },
  {
   "cell_type": "markdown",
   "id": "4112cf49",
   "metadata": {
    "slideshow": {
     "slide_type": "fragment"
    }
   },
   "source": [
    "$\\chi^2$ test compares the shapes of two histograms, $h$ and $g$."
   ]
  },
  {
   "cell_type": "markdown",
   "id": "aa21012e",
   "metadata": {
    "slideshow": {
     "slide_type": "fragment"
    }
   },
   "source": [
    "$$X^2=\\sum_{i=1}^{N}\\frac{(h_i - g_i)^2}{h_i}$$"
   ]
  },
  {
   "cell_type": "markdown",
   "id": "bb8b9e45",
   "metadata": {
    "slideshow": {
     "slide_type": "skip"
    }
   },
   "source": [
    "We combine the corresponding bins of the two histograms using the fraction inside the sum.\n",
    "\n",
    "Then, the results are summed over all the bins."
   ]
  },
  {
   "cell_type": "code",
   "execution_count": 11,
   "id": "4ad24bfd",
   "metadata": {
    "slideshow": {
     "slide_type": "fragment"
    }
   },
   "outputs": [],
   "source": [
    "# histograms\n",
    "h = np.histogram(toss_sums, bins=range(100+1))[0]\n",
    "g = np.histogram(toss2_sums, bins=range(100+1))[0]\n",
    "\n",
    "# test statistics\n",
    "test_stat = 0\n",
    "for i in range(100):\n",
    "    if h[i] > 0:\n",
    "        test_stat += (h[i] - g[i])**2 / h[i]"
   ]
  },
  {
   "cell_type": "markdown",
   "id": "37b0cef4",
   "metadata": {
    "slideshow": {
     "slide_type": "skip"
    }
   },
   "source": [
    "`np.histogram` computes the histogram. The `for` loop implements the $\\chi^2$-test formula above."
   ]
  },
  {
   "cell_type": "code",
   "execution_count": 12,
   "id": "4a336289",
   "metadata": {
    "slideshow": {
     "slide_type": "subslide"
    }
   },
   "outputs": [
    {
     "data": {
      "text/plain": [
       "197.7241088701197"
      ]
     },
     "execution_count": 12,
     "metadata": {},
     "output_type": "execute_result"
    }
   ],
   "source": [
    "test_stat  # test statistic"
   ]
  },
  {
   "cell_type": "markdown",
   "id": "d3fd06dc",
   "metadata": {
    "slideshow": {
     "slide_type": "skip"
    }
   },
   "source": [
    "We get a test statistic. The higher the number, the bigger difference between the histograms."
   ]
  },
  {
   "cell_type": "markdown",
   "id": "384ab0ef",
   "metadata": {
    "slideshow": {
     "slide_type": "fragment"
    }
   },
   "source": [
    "We convert the test statistic to p-value (using $\\chi^2$ distribution)."
   ]
  },
  {
   "cell_type": "code",
   "execution_count": 13,
   "id": "a8092dbf",
   "metadata": {
    "slideshow": {
     "slide_type": "fragment"
    }
   },
   "outputs": [
    {
     "data": {
      "text/plain": [
       "1.4826819136900469e-08"
      ]
     },
     "execution_count": 13,
     "metadata": {},
     "output_type": "execute_result"
    }
   ],
   "source": [
    "scipy.stats.chi2.sf(test_stat, 100-1)  # significant if <0.05"
   ]
  },
  {
   "cell_type": "markdown",
   "id": "a576fbcf",
   "metadata": {
    "slideshow": {
     "slide_type": "skip"
    }
   },
   "source": [
    "Unlike the test statistic, the p-value accounts for number of samples we observe.\n",
    "\n",
    "We can interpret p-value directly. If the p-value is below $0.05$, the difference between the histograms is statistically significant."
   ]
  },
  {
   "cell_type": "markdown",
   "id": "1c090a60",
   "metadata": {
    "slideshow": {
     "slide_type": "fragment"
    }
   },
   "source": [
    "The histograms are different. **Something's wrong with the coin!**"
   ]
  },
  {
   "cell_type": "markdown",
   "id": "4744a072",
   "metadata": {
    "slideshow": {
     "slide_type": "slide"
    }
   },
   "source": [
    "<center><h2>Enough of coins, back to images!</h2></center>"
   ]
  },
  {
   "cell_type": "code",
   "execution_count": 14,
   "id": "586fb182",
   "metadata": {
    "slideshow": {
     "slide_type": "subslide"
    }
   },
   "outputs": [
    {
     "data": {
      "image/png": "[encoded data removed]",
      "text/plain": [
       "<Figure size 864x216 with 1 Axes>"
      ]
     },
     "metadata": {
      "needs_background": "light"
     },
     "output_type": "display_data"
    }
   ],
   "source": [
    "# load image\n",
    "x = np.array(Image.open('../img/nockspitze.png').convert('L'))\n",
    "plt.imshow(x,cmap = \"gray\");"
   ]
  },
  {
   "cell_type": "markdown",
   "id": "73f0c218",
   "metadata": {
    "slideshow": {
     "slide_type": "skip"
    }
   },
   "source": [
    "We create a histogram of the test cover image. Recall that image pixels contain values $0-255$."
   ]
  },
  {
   "cell_type": "code",
   "execution_count": 15,
   "id": "fbe56873",
   "metadata": {
    "slideshow": {
     "slide_type": "subslide"
    }
   },
   "outputs": [
    {
     "data": {
      "image/png": "[encoded data removed]",
      "text/plain": [
       "<Figure size 864x216 with 1 Axes>"
      ]
     },
     "metadata": {
      "needs_background": "light"
     },
     "output_type": "display_data"
    }
   ],
   "source": [
    "sns.histplot(x.flatten(), discrete=True);  # cover histogram"
   ]
  },
  {
   "cell_type": "markdown",
   "id": "a206b10d",
   "metadata": {
    "slideshow": {
     "slide_type": "skip"
    }
   },
   "source": [
    "We can also embed LSB replacement into the image, and look at the stego histogram."
   ]
  },
  {
   "cell_type": "code",
   "execution_count": 16,
   "id": "647f6141",
   "metadata": {
    "slideshow": {
     "slide_type": "fragment"
    }
   },
   "outputs": [
    {
     "data": {
      "image/png": "[encoded data removed]",
      "text/plain": [
       "<Figure size 864x216 with 1 Axes>"
      ]
     },
     "metadata": {
      "needs_background": "light"
     },
     "output_type": "display_data"
    }
   ],
   "source": [
    "sns.histplot(lsbr(x, 1.).flatten(), discrete=True);  # stego histogram"
   ]
  },
  {
   "cell_type": "markdown",
   "id": "903d94f1",
   "metadata": {
    "slideshow": {
     "slide_type": "subslide"
    }
   },
   "source": [
    "Let's take a closer look. What is going on with the histogram?"
   ]
  },
  {
   "cell_type": "code",
   "execution_count": 17,
   "id": "ea515b11",
   "metadata": {
    "slideshow": {
     "slide_type": "fragment"
    }
   },
   "outputs": [
    {
     "data": {
      "image/png": "[encoded data removed]",
      "text/plain": [
       "<Figure size 864x216 with 3 Axes>"
      ]
     },
     "metadata": {
      "needs_background": "light"
     },
     "output_type": "display_data"
    }
   ],
   "source": [
    "fig, ax = plt.subplots(1, 3, sharey=True)\n",
    "for i, alpha in enumerate([.0, .5, 1.]):\n",
    "    y = lsbr(x, alpha).flatten()\n",
    "    sns.histplot(y, binrange=(125, 175), discrete=True, ax=ax[i]);\n",
    "    ax[i].set_title(f'{alpha:.1f}');"
   ]
  },
  {
   "cell_type": "markdown",
   "id": "ac99072b",
   "metadata": {
    "slideshow": {
     "slide_type": "subslide"
    }
   },
   "source": [
    "LSBr averages the neighbor pairs (even and odd neighbor)."
   ]
  },
  {
   "cell_type": "markdown",
   "id": "1ee4e2da",
   "metadata": {
    "slideshow": {
     "slide_type": "fragment"
    }
   },
   "source": [
    "$$\\bar{h}_i=\\frac{h_{i}+h_{i+1}}{2}$$"
   ]
  },
  {
   "cell_type": "code",
   "execution_count": 18,
   "id": "cce2b5ad",
   "metadata": {
    "slideshow": {
     "slide_type": "fragment"
    }
   },
   "outputs": [],
   "source": [
    "# histogram\n",
    "h, edges = np.histogram(x.flatten(), bins=range(256+1))\n",
    "# average even-odd pairs\n",
    "hbar = np.repeat((h[:-1:2] + h[1::2]) / 2, 2)"
   ]
  },
  {
   "cell_type": "code",
   "execution_count": 19,
   "id": "2af87295",
   "metadata": {
    "slideshow": {
     "slide_type": "fragment"
    }
   },
   "outputs": [
    {
     "data": {
      "image/png": "[encoded data removed]",
      "text/plain": [
       "<Figure size 864x216 with 2 Axes>"
      ]
     },
     "metadata": {
      "needs_background": "light"
     },
     "output_type": "display_data"
    }
   ],
   "source": [
    "fig, ax = plt.subplots(1, 2, sharey=True)\n",
    "ax[0].bar(range(256), h);\n",
    "ax[1].bar(range(256), hbar);"
   ]
  },
  {
   "cell_type": "markdown",
   "id": "78ef2cd6",
   "metadata": {
    "slideshow": {
     "slide_type": "slide"
    }
   },
   "source": [
    "Can we use $\\chi^2$ test to detect steganography?"
   ]
  },
  {
   "cell_type": "markdown",
   "id": "2d6c1293",
   "metadata": {
    "slideshow": {
     "slide_type": "skip"
    }
   },
   "source": [
    "We can test the difference between the histogram, and its pair average."
   ]
  },
  {
   "cell_type": "markdown",
   "id": "f2185b0d",
   "metadata": {
    "slideshow": {
     "slide_type": "fragment"
    }
   },
   "source": [
    "If the histogram is similar to the pair-averaged histogram, steganography is present."
   ]
  },
  {
   "cell_type": "markdown",
   "id": "07155b54",
   "metadata": {
    "slideshow": {
     "slide_type": "fragment"
    }
   },
   "source": [
    "$$S=\\sum_{i=0}^{255}\\frac{(h_i-\\bar{h}_i)^2}{\\bar{h}_i}$$"
   ]
  },
  {
   "cell_type": "markdown",
   "id": "b61f48d0",
   "metadata": {
    "slideshow": {
     "slide_type": "skip"
    }
   },
   "source": [
    "$h$ is the histogram of the analyzed image. We construct $\\bar{h}$ from $h$ by averaging its neighbors. Compare the formula with the one we used for fair vs. unfair coin."
   ]
  },
  {
   "cell_type": "code",
   "execution_count": 20,
   "id": "00268b4b",
   "metadata": {
    "slideshow": {
     "slide_type": "fragment"
    }
   },
   "outputs": [],
   "source": [
    "# Avoid division by zero\n",
    "h = h[hbar > 0]\n",
    "hbar = hbar[hbar > 0]\n",
    "# Chi2 test\n",
    "test_stat = np.sum((h - hbar)**2 / hbar)\n",
    "pvalue = scipy.stats.chi2.sf(test_stat, 2**8-1)"
   ]
  },
  {
   "cell_type": "markdown",
   "id": "def6548a",
   "metadata": {
    "slideshow": {
     "slide_type": "skip"
    }
   },
   "source": [
    "We replaced the `for` loop with a on-liner, which is shorter, faster, and in this case closer to the formula.\n",
    "\n",
    "In the p-value calculation, we specify $2^8-1=255$ degrees of freedom."
   ]
  },
  {
   "cell_type": "code",
   "execution_count": 21,
   "id": "f9544935",
   "metadata": {
    "slideshow": {
     "slide_type": "subslide"
    }
   },
   "outputs": [
    {
     "data": {
      "text/plain": [
       "0.0"
      ]
     },
     "execution_count": 21,
     "metadata": {},
     "output_type": "execute_result"
    }
   ],
   "source": [
    "pvalue  # stego if >0.05"
   ]
  },
  {
   "cell_type": "markdown",
   "id": "f7eee541",
   "metadata": {
    "slideshow": {
     "slide_type": "skip"
    }
   },
   "source": [
    "If the histogram is close to the pair-averaged histogram, the image contains LSBr steganography.\n",
    "\n",
    "They are the same, if p-value is greater than $5\\%$."
   ]
  },
  {
   "cell_type": "markdown",
   "id": "439cf46b",
   "metadata": {
    "slideshow": {
     "slide_type": "fragment"
    }
   },
   "source": [
    "P-value is less than $5\\%$, histograms are different. The image is **cover**."
   ]
  },
  {
   "cell_type": "markdown",
   "id": "e28afd5a",
   "metadata": {
    "slideshow": {
     "slide_type": "subslide"
    }
   },
   "source": [
    "We run the $\\chi^2$-test for stego."
   ]
  },
  {
   "cell_type": "code",
   "execution_count": 22,
   "id": "0f929f26",
   "metadata": {
    "slideshow": {
     "slide_type": "fragment"
    },
    "tags": []
   },
   "outputs": [],
   "source": [
    "def chi2_attack(x):\n",
    "    # histograms\n",
    "    h = np.histogram(x.flatten(), bins=range(256+1))[0]\n",
    "    hbar = np.repeat((h[:-1:2] + h[1::2])/2, 2)\n",
    "    h, hbar = h[hbar > 0], hbar[hbar > 0]\n",
    "    # chi2 test\n",
    "    S = np.sum((h[:-1:2] - hbar[::2])**2 / hbar[::2])\n",
    "    return scipy.stats.chi2.sf(S, h.size-1)"
   ]
  },
  {
   "cell_type": "code",
   "execution_count": 23,
   "id": "52159d86",
   "metadata": {
    "slideshow": {
     "slide_type": "fragment"
    }
   },
   "outputs": [],
   "source": [
    "y = lsbr(x, 1.)  # create stego\n",
    "pvalue = chi2_attack(y)  # chi2 attack"
   ]
  },
  {
   "cell_type": "code",
   "execution_count": 24,
   "id": "849add59",
   "metadata": {
    "slideshow": {
     "slide_type": "fragment"
    }
   },
   "outputs": [
    {
     "data": {
      "text/plain": [
       "1.0"
      ]
     },
     "execution_count": 24,
     "metadata": {},
     "output_type": "execute_result"
    }
   ],
   "source": [
    "pvalue  # stego if >0.05"
   ]
  },
  {
   "cell_type": "markdown",
   "id": "4c32ed52",
   "metadata": {
    "slideshow": {
     "slide_type": "fragment"
    }
   },
   "source": [
    "P-value is greater than $5\\%$, histograms are the same. The image is **stego**."
   ]
  },
  {
   "cell_type": "markdown",
   "id": "02e8027d",
   "metadata": {
    "slideshow": {
     "slide_type": "slide"
    }
   },
   "source": [
    "## Take-away messages"
   ]
  },
  {
   "cell_type": "markdown",
   "id": "b3fdc24e",
   "metadata": {
    "slideshow": {
     "slide_type": "fragment"
    }
   },
   "source": [
    "- Steganography distorts image statistics."
   ]
  },
  {
   "cell_type": "markdown",
   "id": "2478094e",
   "metadata": {
    "slideshow": {
     "slide_type": "fragment"
    }
   },
   "source": [
    "- $\\chi^2$ test can detect the presence of LSB replacement steganography."
   ]
  },
  {
   "cell_type": "markdown",
   "id": "a6b6db6a",
   "metadata": {
    "slideshow": {
     "slide_type": "slide"
    }
   },
   "source": [
    "## Hands-on: LSBr\n",
    "\n",
    "- Find the image(s) with steganography among the suspicious images\n",
    "- Try to extract the messages\n",
    "  - The secret key is *the answer to life, the universe, and everything*. (Maybe Google can help you with that)\n"
   ]
  },
  {
   "cell_type": "markdown",
   "id": "b8c4e42e",
   "metadata": {
    "slideshow": {
     "slide_type": "skip"
    }
   },
   "source": [
    "First, we download the suspicious images from the server.\n",
    "\n",
    "They are called `nockspitze.png`, `statue.png`, and `martinswand.png`."
   ]
  },
  {
   "cell_type": "code",
   "execution_count": 25,
   "id": "b53bc166",
   "metadata": {
    "slideshow": {
     "slide_type": "skip"
    }
   },
   "outputs": [],
   "source": [
    "# download suspicious images\n",
    "import requests\n",
    "for fname in ['t21a.png', 'statue.png', 'martinswand.png']:\n",
    "    res = requests.get(f'https://github.com/uibk-uncover/mip-stego-demo/raw/main/img/{fname}')\n",
    "    with open(fname, 'wb') as f:\n",
    "        f.write(res.content)"
   ]
  },
  {
   "cell_type": "markdown",
   "id": "3be96736",
   "metadata": {
    "slideshow": {
     "slide_type": "skip"
    }
   },
   "source": [
    "For the extraction, you might find following function useful."
   ]
  },
  {
   "cell_type": "code",
   "execution_count": 26,
   "id": "b4f334aa",
   "metadata": {
    "slideshow": {
     "slide_type": "skip"
    }
   },
   "outputs": [],
   "source": [
    "import zlib\n",
    "def extract_lsbr(stego: np.ndarray, key: int = None) -> str:\n",
    "    # permuted walk-through\n",
    "    perm = np.linspace(0, stego.size-1, stego.size, dtype='int64')\n",
    "    if key is not None:\n",
    "        rng = np.random.default_rng(key)\n",
    "        perm = rng.permutation(perm)\n",
    "    \n",
    "    # Gather LSB bits along pseudorandom path\n",
    "    message_bits_extracted = []\n",
    "    for i, it in enumerate(perm):\n",
    "        # get index (x- and y-coordinate)\n",
    "        idx = it // stego.shape[1], it % stego.shape[1]\n",
    "        \n",
    "        # get message bit\n",
    "        message_bits_extracted.append(stego[idx] & 1)\n",
    "        \n",
    "    # convert to bytes\n",
    "    message_bytes_extracted = b''\n",
    "    for i in range(len(message_bits_extracted)//8):\n",
    "        char_bits = list(message_bits_extracted[i*8:(i+1)*8])\n",
    "\n",
    "        # decode the byte\n",
    "        byte = 0\n",
    "        for i, bit in enumerate(char_bits):\n",
    "            byte |= bit << i\n",
    "        message_bytes_extracted += int(byte).to_bytes(1, byteorder='big')\n",
    "    \n",
    "    # unzip the message\n",
    "    message = zlib.decompressobj().decompress(message_bytes_extracted)\n",
    "    return message.decode('ascii')"
   ]
  },
  {
   "cell_type": "markdown",
   "id": "04534759",
   "metadata": {
    "slideshow": {
     "slide_type": "skip"
    }
   },
   "source": [
    "Unlike in the exercise 2, here we zip the message, in order to\n",
    "\n",
    "- reduce its size, and\n",
    "- increase its entropy (each bit carries more information)"
   ]
  },
  {
   "cell_type": "code",
   "execution_count": null,
   "id": "f383306d",
   "metadata": {},
   "outputs": [],
   "source": []
  }
 ],
 "metadata": {
  "celltoolbar": "Slideshow",
  "kernelspec": {
   "display_name": "Python 3 (ipykernel)",
   "language": "python",
   "name": "python3"
  },
  "language_info": {
   "codemirror_mode": {
    "name": "ipython",
    "version": 3
   },
   "file_extension": ".py",
   "mimetype": "text/x-python",
   "name": "python",
   "nbconvert_exporter": "python",
   "pygments_lexer": "ipython3",
   "version": "3.9.7"
  }
 },
 "nbformat": 4,
 "nbformat_minor": 5
}
