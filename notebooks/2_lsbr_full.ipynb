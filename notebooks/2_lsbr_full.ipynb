{
 "cells": [
  {
   "cell_type": "markdown",
   "id": "fea3b6ea-5163-497c-8715-07f7dfa2330c",
   "metadata": {},
   "source": [
    "# Workshop name\n",
    "\n",
    "**Author:** Martin Beneš, Verena Lachner"
   ]
  },
  {
   "cell_type": "markdown",
   "id": "3994359b-6616-4ae0-bc58-bc8ef56d6f6c",
   "metadata": {},
   "source": [
    "## Notebook setup"
   ]
  },
  {
   "cell_type": "markdown",
   "id": "e4964d4f-c617-4280-9e7c-94e02a5f3b69",
   "metadata": {},
   "source": [
    "For this notebook, we will use a sample image `00001.tif` from ALASKA database. Run following code chunk to download it."
   ]
  },
  {
   "cell_type": "code",
   "execution_count": 1,
   "id": "9d9c14de-b3ad-4d90-a35c-5d726c4a237f",
   "metadata": {},
   "outputs": [
    {
     "name": "stderr",
     "output_type": "stream",
     "text": [
      "/opt/miniconda3/envs/dev/lib/python3.9/site-packages/urllib3/connectionpool.py:1099: InsecureRequestWarning: Unverified HTTPS request is being made to host 'alaska.utt.fr'. Adding certificate verification is strongly advised. See: https://urllib3.readthedocs.io/en/latest/advanced-usage.html#tls-warnings\n",
      "  warnings.warn(\n"
     ]
    }
   ],
   "source": [
    "# download 00001.tif from ALASKA website\n",
    "import requests\n",
    "res = requests.get('http://alaska.utt.fr/DATASETS/ALASKA_v2_TIFF_512_COLOR/00001.tif', verify=False)\n",
    "with open('00001.tif', 'wb') as f:\n",
    "    f.write(res.content)"
   ]
  }
 ],
 "metadata": {
  "kernelspec": {
   "display_name": "Python 3 (ipykernel)",
   "language": "python",
   "name": "python3"
  },
  "language_info": {
   "codemirror_mode": {
    "name": "ipython",
    "version": 3
   },
   "file_extension": ".py",
   "mimetype": "text/x-python",
   "name": "python",
   "nbconvert_exporter": "python",
   "pygments_lexer": "ipython3",
   "version": "3.9.18"
  }
 },
 "nbformat": 4,
 "nbformat_minor": 5
}
